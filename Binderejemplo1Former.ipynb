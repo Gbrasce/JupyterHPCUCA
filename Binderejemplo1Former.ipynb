{
  "nbformat": 4,
  "nbformat_minor": 0,
  "metadata": {
    "colab": {
      "name": "ejemplo1.ipynb",
      "provenance": [],
      "collapsed_sections": []
    },
    "kernelspec": {
      "name": "python3",
      "display_name": "Python 3"
    },
    "accelerator": "GPU"
  },
  "cells": [
    {
      "cell_type": "code",
      "metadata": {
        "colab": {
          "base_uri": "https://localhost:8080/"
        },
        "id": "Zq7pC7jyFzkI",
        "outputId": "d19bdab9-c9a2-45b7-8943-98e463f5b483"
      },
      "source": [
        "import numpy as np\n",
        "\n",
        "import time\n",
        "\n",
        "# generating 1000 x 1000 matrices\n",
        "np.random.seed(42)\n",
        "\n",
        "x = np.random.randint(0,256, size=(10000,10000)).astype(\"float64\")\n",
        "\n",
        "y = np.random.randint(0,256, size=(10000,10000)).astype(\"float64\")\n",
        "\n",
        "\n",
        "#computing multiplication time on CPU\n",
        "tic = time.time()\n",
        "\n",
        "z = np.matmul(x,y)\n",
        "\n",
        "toc = time.time()\n",
        "\n",
        "time_taken = toc - tic #time in s\n",
        "\n",
        "print(\"Time taken on CPU (in ms) = {}\".format(time_taken*1000))"
      ],
      "execution_count": 1,
      "outputs": [
        {
          "output_type": "stream",
          "text": [
            "Time taken on CPU (in ms) = 56082.8001499176\n"
          ],
          "name": "stdout"
        }
      ]
    },
    {
      "cell_type": "code",
      "metadata": {
        "colab": {
          "base_uri": "https://localhost:8080/"
        },
        "id": "hB9kmKv8F0MN",
        "outputId": "496e5189-c286-425d-f2eb-cd22782c9a7a"
      },
      "source": [
        "!pip install pycuda\n",
        "!pip install scikit-cuda\n",
        "import pycuda.autoinit\n",
        "import pycuda.gpuarray as gpuarray\n",
        "import numpy as np\n",
        "import skcuda.linalg as linalg\n",
        "import time\n",
        "#computing multiplication time on GPU\n",
        "linalg.init()\n",
        "x = np.random.randint(0,256, size=(10000,10000)).astype(\"float64\")\n",
        "\n",
        "y = np.random.randint(0,256, size=(10000,10000)).astype(\"float64\")\n",
        "\n",
        "# storing the arrays on GPU\n",
        "x_gpu = gpuarray.to_gpu(x)\n",
        "\n",
        "y_gpu = gpuarray.to_gpu(y)\n",
        "\n",
        "tic = time.time()\n",
        "\n",
        "#performing the multiplication\n",
        "z_gpu = linalg.mdot(x_gpu, y_gpu)\n",
        "\n",
        "toc = time.time()\n",
        "\n",
        "time_taken = toc - tic #time in s\n",
        "\n",
        "print(\"Time taken on a GPU (in ms) = {}\".format(time_taken*1000))"
      ],
      "execution_count": 3,
      "outputs": [
        {
          "output_type": "stream",
          "text": [
            "Collecting pycuda\n",
            "\u001b[?25l  Downloading https://files.pythonhosted.org/packages/46/61/47d3235a4c13eec5a5f03594ddb268f4858734e02980afbcd806e6242fa5/pycuda-2020.1.tar.gz (1.6MB)\n",
            "\u001b[K     |████████████████████████████████| 1.6MB 8.8MB/s \n",
            "\u001b[?25hCollecting pytools>=2011.2\n",
            "\u001b[?25l  Downloading https://files.pythonhosted.org/packages/b7/30/c9362a282ef89106768cba9d884f4b2e4f5dc6881d0c19b478d2a710b82b/pytools-2020.4.3.tar.gz (62kB)\n",
            "\u001b[K     |████████████████████████████████| 71kB 9.9MB/s \n",
            "\u001b[?25hRequirement already satisfied: decorator>=3.2.0 in /usr/local/lib/python3.6/dist-packages (from pycuda) (4.4.2)\n",
            "Collecting appdirs>=1.4.0\n",
            "  Downloading https://files.pythonhosted.org/packages/3b/00/2344469e2084fb287c2e0b57b72910309874c3245463acd6cf5e3db69324/appdirs-1.4.4-py2.py3-none-any.whl\n",
            "Collecting mako\n",
            "\u001b[?25l  Downloading https://files.pythonhosted.org/packages/a6/37/0e706200d22172eb8fa17d68a7ae22dec7631a0a92266634fb518a88a5b2/Mako-1.1.3-py2.py3-none-any.whl (75kB)\n",
            "\u001b[K     |████████████████████████████████| 81kB 11.0MB/s \n",
            "\u001b[?25hRequirement already satisfied: six>=1.8.0 in /usr/local/lib/python3.6/dist-packages (from pytools>=2011.2->pycuda) (1.15.0)\n",
            "Requirement already satisfied: numpy>=1.6.0 in /usr/local/lib/python3.6/dist-packages (from pytools>=2011.2->pycuda) (1.18.5)\n",
            "Requirement already satisfied: dataclasses>=0.7 in /usr/local/lib/python3.6/dist-packages (from pytools>=2011.2->pycuda) (0.8)\n",
            "Requirement already satisfied: MarkupSafe>=0.9.2 in /usr/local/lib/python3.6/dist-packages (from mako->pycuda) (1.1.1)\n",
            "Building wheels for collected packages: pycuda, pytools\n",
            "  Building wheel for pycuda (setup.py) ... \u001b[?25l\u001b[?25hdone\n",
            "  Created wheel for pycuda: filename=pycuda-2020.1-cp36-cp36m-linux_x86_64.whl size=621085 sha256=7fe216760e3429c9754b1cbfe1e449efc64e8e2fbc93697610b30c22947d5bfd\n",
            "  Stored in directory: /root/.cache/pip/wheels/8f/78/d1/5bb826f81d9d490297a348d818ff3ee6dd6f2075b06dde6ea0\n",
            "  Building wheel for pytools (setup.py) ... \u001b[?25l\u001b[?25hdone\n",
            "  Created wheel for pytools: filename=pytools-2020.4.3-py2.py3-none-any.whl size=61374 sha256=ce63d15897cb6b3ef6a4dbea91767b946fd6a49d79fcaea053b8a4643ac60bd5\n",
            "  Stored in directory: /root/.cache/pip/wheels/af/c7/81/a22edb90b0b09a880468b2253bb1df8e9f503337ee15432c64\n",
            "Successfully built pycuda pytools\n",
            "Installing collected packages: appdirs, pytools, mako, pycuda\n",
            "Successfully installed appdirs-1.4.4 mako-1.1.3 pycuda-2020.1 pytools-2020.4.3\n",
            "Collecting scikit-cuda\n",
            "\u001b[?25l  Downloading https://files.pythonhosted.org/packages/98/8b/36d178c3b98524fe5b1cc15d075d34e2e6e291c4b0461f6e901f1e0bc736/scikit_cuda-0.5.3-py2.py3-none-any.whl (114kB)\n",
            "\u001b[K     |████████████████████████████████| 122kB 8.8MB/s \n",
            "\u001b[?25hRequirement already satisfied: pycuda>=2016.1 in /usr/local/lib/python3.6/dist-packages (from scikit-cuda) (2020.1)\n",
            "Requirement already satisfied: numpy>=1.2.0 in /usr/local/lib/python3.6/dist-packages (from scikit-cuda) (1.18.5)\n",
            "Requirement already satisfied: mako>=1.0.1 in /usr/local/lib/python3.6/dist-packages (from scikit-cuda) (1.1.3)\n",
            "Requirement already satisfied: appdirs>=1.4.0 in /usr/local/lib/python3.6/dist-packages (from pycuda>=2016.1->scikit-cuda) (1.4.4)\n",
            "Requirement already satisfied: pytools>=2011.2 in /usr/local/lib/python3.6/dist-packages (from pycuda>=2016.1->scikit-cuda) (2020.4.3)\n",
            "Requirement already satisfied: decorator>=3.2.0 in /usr/local/lib/python3.6/dist-packages (from pycuda>=2016.1->scikit-cuda) (4.4.2)\n",
            "Requirement already satisfied: MarkupSafe>=0.9.2 in /usr/local/lib/python3.6/dist-packages (from mako>=1.0.1->scikit-cuda) (1.1.1)\n",
            "Requirement already satisfied: six>=1.8.0 in /usr/local/lib/python3.6/dist-packages (from pytools>=2011.2->pycuda>=2016.1->scikit-cuda) (1.15.0)\n",
            "Requirement already satisfied: dataclasses>=0.7; python_version <= \"3.6\" in /usr/local/lib/python3.6/dist-packages (from pytools>=2011.2->pycuda>=2016.1->scikit-cuda) (0.8)\n",
            "Installing collected packages: scikit-cuda\n",
            "Successfully installed scikit-cuda-0.5.3\n",
            "Time taken on a GPU (in ms) = 8118.910312652588\n"
          ],
          "name": "stdout"
        }
      ]
    },
    {
      "cell_type": "code",
      "metadata": {
        "colab": {
          "base_uri": "https://localhost:8080/"
        },
        "id": "TZJpytmbUh7Y",
        "outputId": "8a5903b9-4250-44e1-bf3e-ae6040fdb10e"
      },
      "source": [
        "!pip install pyopencl"
      ],
      "execution_count": 4,
      "outputs": [
        {
          "output_type": "stream",
          "text": [
            "Collecting pyopencl\n",
            "\u001b[?25l  Downloading https://files.pythonhosted.org/packages/7a/12/7d4171ecfaf61bafdc4a628263d086b8e75ff89f4ada5458ff1fd16d953c/pyopencl-2020.3.1-cp36-cp36m-manylinux1_x86_64.whl (738kB)\n",
            "\r\u001b[K     |▍                               | 10kB 21.7MB/s eta 0:00:01\r\u001b[K     |▉                               | 20kB 28.7MB/s eta 0:00:01\r\u001b[K     |█▎                              | 30kB 14.8MB/s eta 0:00:01\r\u001b[K     |█▊                              | 40kB 10.9MB/s eta 0:00:01\r\u001b[K     |██▏                             | 51kB 7.0MB/s eta 0:00:01\r\u001b[K     |██▋                             | 61kB 7.3MB/s eta 0:00:01\r\u001b[K     |███                             | 71kB 7.7MB/s eta 0:00:01\r\u001b[K     |███▌                            | 81kB 8.2MB/s eta 0:00:01\r\u001b[K     |████                            | 92kB 8.5MB/s eta 0:00:01\r\u001b[K     |████▍                           | 102kB 8.8MB/s eta 0:00:01\r\u001b[K     |████▉                           | 112kB 8.8MB/s eta 0:00:01\r\u001b[K     |█████▎                          | 122kB 8.8MB/s eta 0:00:01\r\u001b[K     |█████▊                          | 133kB 8.8MB/s eta 0:00:01\r\u001b[K     |██████▏                         | 143kB 8.8MB/s eta 0:00:01\r\u001b[K     |██████▋                         | 153kB 8.8MB/s eta 0:00:01\r\u001b[K     |███████                         | 163kB 8.8MB/s eta 0:00:01\r\u001b[K     |███████▌                        | 174kB 8.8MB/s eta 0:00:01\r\u001b[K     |████████                        | 184kB 8.8MB/s eta 0:00:01\r\u001b[K     |████████▍                       | 194kB 8.8MB/s eta 0:00:01\r\u001b[K     |████████▉                       | 204kB 8.8MB/s eta 0:00:01\r\u001b[K     |█████████▎                      | 215kB 8.8MB/s eta 0:00:01\r\u001b[K     |█████████▊                      | 225kB 8.8MB/s eta 0:00:01\r\u001b[K     |██████████▏                     | 235kB 8.8MB/s eta 0:00:01\r\u001b[K     |██████████▋                     | 245kB 8.8MB/s eta 0:00:01\r\u001b[K     |███████████                     | 256kB 8.8MB/s eta 0:00:01\r\u001b[K     |███████████▌                    | 266kB 8.8MB/s eta 0:00:01\r\u001b[K     |████████████                    | 276kB 8.8MB/s eta 0:00:01\r\u001b[K     |████████████▍                   | 286kB 8.8MB/s eta 0:00:01\r\u001b[K     |████████████▉                   | 296kB 8.8MB/s eta 0:00:01\r\u001b[K     |█████████████▎                  | 307kB 8.8MB/s eta 0:00:01\r\u001b[K     |█████████████▊                  | 317kB 8.8MB/s eta 0:00:01\r\u001b[K     |██████████████▏                 | 327kB 8.8MB/s eta 0:00:01\r\u001b[K     |██████████████▋                 | 337kB 8.8MB/s eta 0:00:01\r\u001b[K     |███████████████                 | 348kB 8.8MB/s eta 0:00:01\r\u001b[K     |███████████████▌                | 358kB 8.8MB/s eta 0:00:01\r\u001b[K     |████████████████                | 368kB 8.8MB/s eta 0:00:01\r\u001b[K     |████████████████▍               | 378kB 8.8MB/s eta 0:00:01\r\u001b[K     |████████████████▉               | 389kB 8.8MB/s eta 0:00:01\r\u001b[K     |█████████████████▎              | 399kB 8.8MB/s eta 0:00:01\r\u001b[K     |█████████████████▊              | 409kB 8.8MB/s eta 0:00:01\r\u001b[K     |██████████████████▏             | 419kB 8.8MB/s eta 0:00:01\r\u001b[K     |██████████████████▋             | 430kB 8.8MB/s eta 0:00:01\r\u001b[K     |███████████████████             | 440kB 8.8MB/s eta 0:00:01\r\u001b[K     |███████████████████▌            | 450kB 8.8MB/s eta 0:00:01\r\u001b[K     |████████████████████            | 460kB 8.8MB/s eta 0:00:01\r\u001b[K     |████████████████████▍           | 471kB 8.8MB/s eta 0:00:01\r\u001b[K     |████████████████████▉           | 481kB 8.8MB/s eta 0:00:01\r\u001b[K     |█████████████████████▎          | 491kB 8.8MB/s eta 0:00:01\r\u001b[K     |█████████████████████▊          | 501kB 8.8MB/s eta 0:00:01\r\u001b[K     |██████████████████████▏         | 512kB 8.8MB/s eta 0:00:01\r\u001b[K     |██████████████████████▋         | 522kB 8.8MB/s eta 0:00:01\r\u001b[K     |███████████████████████         | 532kB 8.8MB/s eta 0:00:01\r\u001b[K     |███████████████████████▌        | 542kB 8.8MB/s eta 0:00:01\r\u001b[K     |████████████████████████        | 552kB 8.8MB/s eta 0:00:01\r\u001b[K     |████████████████████████▍       | 563kB 8.8MB/s eta 0:00:01\r\u001b[K     |████████████████████████▉       | 573kB 8.8MB/s eta 0:00:01\r\u001b[K     |█████████████████████████▎      | 583kB 8.8MB/s eta 0:00:01\r\u001b[K     |█████████████████████████▊      | 593kB 8.8MB/s eta 0:00:01\r\u001b[K     |██████████████████████████▏     | 604kB 8.8MB/s eta 0:00:01\r\u001b[K     |██████████████████████████▋     | 614kB 8.8MB/s eta 0:00:01\r\u001b[K     |███████████████████████████     | 624kB 8.8MB/s eta 0:00:01\r\u001b[K     |███████████████████████████▌    | 634kB 8.8MB/s eta 0:00:01\r\u001b[K     |████████████████████████████    | 645kB 8.8MB/s eta 0:00:01\r\u001b[K     |████████████████████████████▍   | 655kB 8.8MB/s eta 0:00:01\r\u001b[K     |████████████████████████████▉   | 665kB 8.8MB/s eta 0:00:01\r\u001b[K     |█████████████████████████████▎  | 675kB 8.8MB/s eta 0:00:01\r\u001b[K     |█████████████████████████████▊  | 686kB 8.8MB/s eta 0:00:01\r\u001b[K     |██████████████████████████████▏ | 696kB 8.8MB/s eta 0:00:01\r\u001b[K     |██████████████████████████████▋ | 706kB 8.8MB/s eta 0:00:01\r\u001b[K     |███████████████████████████████ | 716kB 8.8MB/s eta 0:00:01\r\u001b[K     |███████████████████████████████▌| 727kB 8.8MB/s eta 0:00:01\r\u001b[K     |████████████████████████████████| 737kB 8.8MB/s eta 0:00:01\r\u001b[K     |████████████████████████████████| 747kB 8.8MB/s \n",
            "\u001b[?25hRequirement already satisfied: pytools>=2017.6 in /usr/local/lib/python3.6/dist-packages (from pyopencl) (2020.4.3)\n",
            "Requirement already satisfied: numpy in /usr/local/lib/python3.6/dist-packages (from pyopencl) (1.18.5)\n",
            "Requirement already satisfied: decorator>=3.2.0 in /usr/local/lib/python3.6/dist-packages (from pyopencl) (4.4.2)\n",
            "Requirement already satisfied: appdirs>=1.4.0 in /usr/local/lib/python3.6/dist-packages (from pyopencl) (1.4.4)\n",
            "Requirement already satisfied: six>=1.8.0 in /usr/local/lib/python3.6/dist-packages (from pytools>=2017.6->pyopencl) (1.15.0)\n",
            "Requirement already satisfied: dataclasses>=0.7; python_version <= \"3.6\" in /usr/local/lib/python3.6/dist-packages (from pytools>=2017.6->pyopencl) (0.8)\n",
            "Installing collected packages: pyopencl\n",
            "Successfully installed pyopencl-2020.3.1\n"
          ],
          "name": "stdout"
        }
      ]
    },
    {
      "cell_type": "code",
      "metadata": {
        "colab": {
          "base_uri": "https://localhost:8080/"
        },
        "id": "8oIrLqwiUct_",
        "outputId": "29c268d0-0fbb-4819-dd98-0f018f3968d7"
      },
      "source": [
        "#!/usr/bin/env python\n",
        "\n",
        "import numpy as np\n",
        "import pyopencl as cl\n",
        "\n",
        "a_np = np.random.rand(50000).astype(np.float32)\n",
        "b_np = np.random.rand(50000).astype(np.float32)\n",
        "\n",
        "ctx = cl.create_some_context()\n",
        "queue = cl.CommandQueue(ctx)\n",
        "\n",
        "mf = cl.mem_flags\n",
        "a_g = cl.Buffer(ctx, mf.READ_ONLY | mf.COPY_HOST_PTR, hostbuf=a_np)\n",
        "b_g = cl.Buffer(ctx, mf.READ_ONLY | mf.COPY_HOST_PTR, hostbuf=b_np)\n",
        "\n",
        "prg = cl.Program(ctx, \"\"\"\n",
        "__kernel void sum(\n",
        "    __global const float *a_g, __global const float *b_g, __global float *res_g)\n",
        "{\n",
        "  int gid = get_global_id(0);\n",
        "  res_g[gid] = a_g[gid] + b_g[gid];\n",
        "}\n",
        "\"\"\").build()\n",
        "\n",
        "res_g = cl.Buffer(ctx, mf.WRITE_ONLY, a_np.nbytes)\n",
        "prg.sum(queue, a_np.shape, None, a_g, b_g, res_g)\n",
        "\n",
        "res_np = np.empty_like(a_np)\n",
        "cl.enqueue_copy(queue, res_np, res_g)\n",
        "\n",
        "# Check on CPU with Numpy:\n",
        "print(res_np - (a_np + b_np))\n",
        "print(np.linalg.norm(res_np - (a_np + b_np)))\n",
        "assert np.allclose(res_np, a_np + b_np)\n"
      ],
      "execution_count": 6,
      "outputs": [
        {
          "output_type": "stream",
          "text": [
            "[0. 0. 0. ... 0. 0. 0.]\n",
            "241.54947\n"
          ],
          "name": "stdout"
        }
      ]
    }
  ]
}

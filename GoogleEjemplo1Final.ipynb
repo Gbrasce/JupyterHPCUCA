{
  "nbformat": 4,
  "nbformat_minor": 0,
  "metadata": {
    "colab": {
      "name": "Copia de ejemplo1Final.ipynb",
      "provenance": [],
      "collapsed_sections": [],
      "include_colab_link": true
    },
    "kernelspec": {
      "name": "python3",
      "display_name": "Python 3"
    },
    "accelerator": "GPU"
  },
  "cells": [
    {
      "cell_type": "markdown",
      "metadata": {
        "id": "view-in-github",
        "colab_type": "text"
      },
      "source": [
        "<a href=\"https://colab.research.google.com/github/Gbrasce/JupyterHPCUCA/blob/main/Copia_de_ejemplo1Final.ipynb\" target=\"_parent\"><img src=\"https://colab.research.google.com/assets/colab-badge.svg\" alt=\"Open In Colab\"/></a>"
      ]
    },
    {
      "cell_type": "markdown",
      "metadata": {
        "id": "Nl65KqRdu0R3"
      },
      "source": [
        "# Trabajo con CPU."
      ]
    },
    {
      "cell_type": "code",
      "metadata": {
        "colab": {
          "base_uri": "https://localhost:8080/"
        },
        "id": "Zq7pC7jyFzkI",
        "outputId": "948f8404-28fb-40f3-d185-155bfd078a06"
      },
      "source": [
        "import numpy as np\n",
        "\n",
        "import time\n",
        "\n",
        "# generating 1000 x 1000 matrices\n",
        "np.random.seed(42)\n",
        "\n",
        "x = np.random.randint(0,256, size=(10000,10000)).astype(\"float64\")\n",
        "\n",
        "y = np.random.randint(0,256, size=(10000,10000)).astype(\"float64\")\n",
        "\n",
        "\n",
        "#computing multiplication time on CPU\n",
        "tic = time.time()\n",
        "\n",
        "z = np.matmul(x,y)\n",
        "\n",
        "toc = time.time()\n",
        "\n",
        "time_taken = toc - tic #time in s\n",
        "\n",
        "print(\"Time taken on CPU (in ms) = {}\".format(time_taken*1000))\n",
        "print(\"Tiempo en segundos = {}\".format(time_taken))"
      ],
      "execution_count": null,
      "outputs": [
        {
          "output_type": "stream",
          "text": [
            "Time taken on CPU (in ms) = 52165.71283340454\n",
            "Tiempo en segundos = 52.16571283340454\n"
          ],
          "name": "stdout"
        }
      ]
    },
    {
      "cell_type": "markdown",
      "metadata": {
        "id": "ue1PkKE6u2N1"
      },
      "source": [
        "# Trabajo con GPU"
      ]
    },
    {
      "cell_type": "code",
      "metadata": {
        "colab": {
          "base_uri": "https://localhost:8080/"
        },
        "id": "hB9kmKv8F0MN",
        "outputId": "e21d8a34-462a-4d0e-abf9-8c32ff33dda0"
      },
      "source": [
        "!pip install pycuda\n",
        "!pip install scikit-cuda\n",
        "import pycuda.autoinit\n",
        "import pycuda.gpuarray as gpuarray\n",
        "import numpy as np\n",
        "import skcuda.linalg as linalg\n",
        "import time\n",
        "#computing multiplication time on GPU\n",
        "linalg.init()\n",
        "x = np.random.randint(0,256, size=(10000,10000)).astype(\"float64\")\n",
        "\n",
        "y = np.random.randint(0,256, size=(10000,10000)).astype(\"float64\")\n",
        "\n",
        "# storing the arrays on GPU\n",
        "x_gpu = gpuarray.to_gpu(x)\n",
        "\n",
        "y_gpu = gpuarray.to_gpu(y)\n",
        "\n",
        "tic = time.time()\n",
        "\n",
        "#performing the multiplication\n",
        "z_gpu = linalg.mdot(x_gpu, y_gpu)\n",
        "\n",
        "toc = time.time()\n",
        "\n",
        "time_taken = toc - tic #time in s\n",
        "\n",
        "print(\"Time taken on a GPU (in ms) = {}\".format(time_taken*1000))\n",
        "print(\"Tiempo en segundos = {}\".format(time_taken))"
      ],
      "execution_count": null,
      "outputs": [
        {
          "output_type": "stream",
          "text": [
            "Requirement already satisfied: pycuda in /usr/local/lib/python3.6/dist-packages (2020.1)\n",
            "Requirement already satisfied: mako in /usr/local/lib/python3.6/dist-packages (from pycuda) (1.1.3)\n",
            "Requirement already satisfied: decorator>=3.2.0 in /usr/local/lib/python3.6/dist-packages (from pycuda) (4.4.2)\n",
            "Requirement already satisfied: appdirs>=1.4.0 in /usr/local/lib/python3.6/dist-packages (from pycuda) (1.4.4)\n",
            "Requirement already satisfied: pytools>=2011.2 in /usr/local/lib/python3.6/dist-packages (from pycuda) (2020.4.3)\n",
            "Requirement already satisfied: MarkupSafe>=0.9.2 in /usr/local/lib/python3.6/dist-packages (from mako->pycuda) (1.1.1)\n",
            "Requirement already satisfied: numpy>=1.6.0 in /usr/local/lib/python3.6/dist-packages (from pytools>=2011.2->pycuda) (1.18.5)\n",
            "Requirement already satisfied: dataclasses>=0.7; python_version <= \"3.6\" in /usr/local/lib/python3.6/dist-packages (from pytools>=2011.2->pycuda) (0.8)\n",
            "Requirement already satisfied: six>=1.8.0 in /usr/local/lib/python3.6/dist-packages (from pytools>=2011.2->pycuda) (1.15.0)\n",
            "Requirement already satisfied: scikit-cuda in /usr/local/lib/python3.6/dist-packages (0.5.3)\n",
            "Requirement already satisfied: pycuda>=2016.1 in /usr/local/lib/python3.6/dist-packages (from scikit-cuda) (2020.1)\n",
            "Requirement already satisfied: mako>=1.0.1 in /usr/local/lib/python3.6/dist-packages (from scikit-cuda) (1.1.3)\n",
            "Requirement already satisfied: numpy>=1.2.0 in /usr/local/lib/python3.6/dist-packages (from scikit-cuda) (1.18.5)\n",
            "Requirement already satisfied: pytools>=2011.2 in /usr/local/lib/python3.6/dist-packages (from pycuda>=2016.1->scikit-cuda) (2020.4.3)\n",
            "Requirement already satisfied: decorator>=3.2.0 in /usr/local/lib/python3.6/dist-packages (from pycuda>=2016.1->scikit-cuda) (4.4.2)\n",
            "Requirement already satisfied: appdirs>=1.4.0 in /usr/local/lib/python3.6/dist-packages (from pycuda>=2016.1->scikit-cuda) (1.4.4)\n",
            "Requirement already satisfied: MarkupSafe>=0.9.2 in /usr/local/lib/python3.6/dist-packages (from mako>=1.0.1->scikit-cuda) (1.1.1)\n",
            "Requirement already satisfied: dataclasses>=0.7; python_version <= \"3.6\" in /usr/local/lib/python3.6/dist-packages (from pytools>=2011.2->pycuda>=2016.1->scikit-cuda) (0.8)\n",
            "Requirement already satisfied: six>=1.8.0 in /usr/local/lib/python3.6/dist-packages (from pytools>=2011.2->pycuda>=2016.1->scikit-cuda) (1.15.0)\n",
            "Time taken on a GPU (in ms) = 11987.776756286621\n",
            "Tiempo en segundos = 11.987776756286621\n"
          ],
          "name": "stdout"
        }
      ]
    },
    {
      "cell_type": "code",
      "metadata": {
        "colab": {
          "base_uri": "https://localhost:8080/"
        },
        "id": "TZJpytmbUh7Y",
        "outputId": "d1564ccd-05f4-45da-8f53-ba53ee202cf4"
      },
      "source": [
        "!pip install pyopencl"
      ],
      "execution_count": null,
      "outputs": [
        {
          "output_type": "stream",
          "text": [
            "Requirement already satisfied: pyopencl in /usr/local/lib/python3.6/dist-packages (2020.3.1)\n",
            "Requirement already satisfied: decorator>=3.2.0 in /usr/local/lib/python3.6/dist-packages (from pyopencl) (4.4.2)\n",
            "Requirement already satisfied: numpy in /usr/local/lib/python3.6/dist-packages (from pyopencl) (1.18.5)\n",
            "Requirement already satisfied: pytools>=2017.6 in /usr/local/lib/python3.6/dist-packages (from pyopencl) (2020.4.3)\n",
            "Requirement already satisfied: appdirs>=1.4.0 in /usr/local/lib/python3.6/dist-packages (from pyopencl) (1.4.4)\n",
            "Requirement already satisfied: dataclasses>=0.7; python_version <= \"3.6\" in /usr/local/lib/python3.6/dist-packages (from pytools>=2017.6->pyopencl) (0.8)\n",
            "Requirement already satisfied: six>=1.8.0 in /usr/local/lib/python3.6/dist-packages (from pytools>=2017.6->pyopencl) (1.15.0)\n"
          ],
          "name": "stdout"
        }
      ]
    },
    {
      "cell_type": "code",
      "metadata": {
        "colab": {
          "base_uri": "https://localhost:8080/"
        },
        "id": "8oIrLqwiUct_",
        "outputId": "1677c967-5886-4144-9b68-a374b0b995bb"
      },
      "source": [
        "#!/usr/bin/env python\n",
        "\n",
        "import numpy as np\n",
        "import pyopencl as cl\n",
        "\n",
        "a_np = np.random.rand(50000).astype(np.float32)\n",
        "b_np = np.random.rand(50000).astype(np.float32)\n",
        "\n",
        "#platform = cl.get_platforms()\n",
        "#my_gpu_devices = platform[0].get_devices(device_type=cl.device_type.GPU)\n",
        "#ctx = cl.Context(devices=my_gpu_devices)\n",
        "\n",
        "ctx = cl.create_some_context()\n",
        "\n",
        "queue = cl.CommandQueue(ctx)\n",
        "\n",
        "mf = cl.mem_flags\n",
        "a_g = cl.Buffer(ctx, mf.READ_ONLY | mf.COPY_HOST_PTR, hostbuf=a_np)\n",
        "b_g = cl.Buffer(ctx, mf.READ_ONLY | mf.COPY_HOST_PTR, hostbuf=b_np)\n",
        "\n",
        "prg = cl.Program(ctx, \"\"\"\n",
        "__kernel void sum( __global const float *a_g, __global const float *b_g, __global float *res_g)\n",
        "{\n",
        "  int gid = get_global_id(0);\n",
        "  res_g[gid] = a_g[gid] + b_g[gid];\n",
        "}\n",
        "\"\"\").build()\n",
        "\n",
        "res_g = cl.Buffer(ctx, mf.WRITE_ONLY, a_np.nbytes)\n",
        "prg.sum(queue, a_np.shape, None, a_g, b_g, res_g)\n",
        "\n",
        "res_np = np.empty_like(a_np)\n",
        "cl.enqueue_copy(queue, res_np, res_g)\n",
        "\n",
        "print(\">CTRL1: es a, b y res\")\n",
        "print(a_np)\n",
        "print(b_np)\n",
        "print(res_np)\n",
        "print(\">CTRL2: es a + b\")\n",
        "print(a_np + b_np)\n",
        "\n",
        "# Check on CPU with Numpy:\n",
        "print(\">CTRL3: (res - (a + b))\")\n",
        "print(res_np - (a_np + b_np))\n",
        "print(np.linalg.norm(res_np - (a_np + b_np)))\n",
        "assert np.allclose(res_np, a_np + b_np)\n",
        "print(\"\\n>Fin: El programa calcula correctamente.\")"
      ],
      "execution_count": null,
      "outputs": [
        {
          "output_type": "stream",
          "text": [
            ">CTRL1: es a, b y res\n",
            "[0.25342506 0.6360239  0.4378942  ... 0.730203   0.08181263 0.3643122 ]\n",
            "[0.75097644 0.87491316 0.62254435 ... 0.806247   0.9499515  0.02636318]\n",
            "[1.0044014  1.510937   1.0604385  ... 1.5364499  1.0317641  0.39067537]\n",
            ">CTRL2: es a + b\n",
            "[1.0044014  1.510937   1.0604385  ... 1.5364499  1.0317641  0.39067537]\n",
            ">CTRL3: (res - (a + b))\n",
            "[0. 0. 0. ... 0. 0. 0.]\n",
            "0.0\n",
            "\n",
            ">Fin: El programa calcula correctamente.\n"
          ],
          "name": "stdout"
        }
      ]
    }
  ]
}
